{
 "cells": [
  {
   "cell_type": "code",
   "execution_count": 1,
   "id": "be725a12-f5df-4fbb-baca-4644d30a2a42",
   "metadata": {},
   "outputs": [
    {
     "name": "stdout",
     "output_type": "stream",
     "text": [
      "    Name Age      City\n",
      "0  Alice  25  New York\n",
      "1  Smith  30    London\n",
      "2    Bob  22     Paris\n"
     ]
    }
   ],
   "source": [
    "import pandas as pd\n",
    "data = {'Name': ['Alice', 'Smith', 'Bob'],\n",
    "        'Age': ['25', '30', '22'],\n",
    "        'City': ['New York', 'London', 'Paris']}\n",
    "df = pd.DataFrame(data)\n",
    "print(df)"
   ]
  },
  {
   "cell_type": "code",
   "execution_count": 6,
   "id": "f4bbf1f1-851e-4417-a9c1-ee9e1b868116",
   "metadata": {},
   "outputs": [],
   "source": [
    "df.to_csv('exported_data.csv', index=False)"
   ]
  },
  {
   "cell_type": "code",
   "execution_count": 7,
   "id": "b182abb9-722b-42df-9df9-6295630d53d6",
   "metadata": {},
   "outputs": [],
   "source": [
    "imported_df = pd.read_csv('exported_data.csv')"
   ]
  },
  {
   "cell_type": "code",
   "execution_count": 8,
   "id": "9c0eefe3-7738-463e-99b3-7b404b6fb178",
   "metadata": {},
   "outputs": [
    {
     "name": "stdout",
     "output_type": "stream",
     "text": [
      "    Name  Age      City\n",
      "0  Alice   25  New York\n",
      "1  Smith   30    London\n",
      "2    Bob   22     Paris\n"
     ]
    }
   ],
   "source": [
    "print(imported_df)"
   ]
  },
  {
   "cell_type": "code",
   "execution_count": 11,
   "id": "3543597f-4acc-4c01-bf48-d88ecb61d093",
   "metadata": {},
   "outputs": [],
   "source": [
    "df.to_excel('exported_data.xlsx', sheet_name='Sheet1', index=False)"
   ]
  },
  {
   "cell_type": "code",
   "execution_count": 12,
   "id": "1302f277-87f3-452e-ba96-cb414f7ee257",
   "metadata": {},
   "outputs": [],
   "source": [
    "imported_df_excel = pd.read_excel('exported_data.xlsx', sheet_name='Sheet1')"
   ]
  },
  {
   "cell_type": "code",
   "execution_count": 13,
   "id": "579f2008-5123-4088-82b4-c78f9586591c",
   "metadata": {},
   "outputs": [
    {
     "name": "stdout",
     "output_type": "stream",
     "text": [
      "    Name  Age      City\n",
      "0  Alice   25  New York\n",
      "1  Smith   30    London\n",
      "2    Bob   22     Paris\n"
     ]
    }
   ],
   "source": [
    "print(imported_df_excel)"
   ]
  },
  {
   "cell_type": "code",
   "execution_count": null,
   "id": "89347a32-af85-4bee-a6fb-6b4da7a214e7",
   "metadata": {},
   "outputs": [],
   "source": []
  }
 ],
 "metadata": {
  "kernelspec": {
   "display_name": "Python 3 (ipykernel)",
   "language": "python",
   "name": "python3"
  },
  "language_info": {
   "codemirror_mode": {
    "name": "ipython",
    "version": 3
   },
   "file_extension": ".py",
   "mimetype": "text/x-python",
   "name": "python",
   "nbconvert_exporter": "python",
   "pygments_lexer": "ipython3",
   "version": "3.12.4"
  }
 },
 "nbformat": 4,
 "nbformat_minor": 5
}
