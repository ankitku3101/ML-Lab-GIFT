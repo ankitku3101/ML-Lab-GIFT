{
 "cells": [
  {
   "cell_type": "code",
   "execution_count": 2,
   "id": "c98ac603-5d6c-4511-b8f0-4df1d42f427e",
   "metadata": {},
   "outputs": [
    {
     "name": "stdout",
     "output_type": "stream",
     "text": [
      "[1.  2.2 3.3 4.4]\n"
     ]
    }
   ],
   "source": [
    "import numpy as np\n",
    "one_dis_array = np.array([1,2.2,3.3,4.4])\n",
    "print(one_dis_array)"
   ]
  },
  {
   "cell_type": "code",
   "execution_count": 3,
   "id": "2ec5614b-9836-4a9d-81dc-f362aa67e9f2",
   "metadata": {},
   "outputs": [
    {
     "name": "stdout",
     "output_type": "stream",
     "text": [
      "[[1, 2], [2, 3], [3, 4]]\n"
     ]
    }
   ],
   "source": [
    "two_dis_array=([[1,2],[2,3],[3,4]])\n",
    "print(two_dis_array)"
   ]
  },
  {
   "cell_type": "code",
   "execution_count": 4,
   "id": "4059fa2e-a72d-4a85-a5eb-a6feb6c87756",
   "metadata": {},
   "outputs": [
    {
     "name": "stdout",
     "output_type": "stream",
     "text": [
      "[23 53 63 85 40 41]\n"
     ]
    }
   ],
   "source": [
    "random_int_between_10_and_100 = np.random.randint(low=10, high=101, size=(6))\n",
    "print(random_int_between_10_and_100)"
   ]
  },
  {
   "cell_type": "code",
   "execution_count": 5,
   "id": "b94d7450-4900-48c8-a5d8-38d1bdacd0c4",
   "metadata": {},
   "outputs": [
    {
     "name": "stdout",
     "output_type": "stream",
     "text": [
      "[ 1  2  3  4  5  6  7  8  9 10]\n"
     ]
    }
   ],
   "source": [
    "seq_of_integers = np.arange(1,11)\n",
    "print(seq_of_integers)"
   ]
  },
  {
   "cell_type": "code",
   "execution_count": 9,
   "id": "41e215e2-382a-4061-93c2-dadd77e4727e",
   "metadata": {},
   "outputs": [
    {
     "name": "stdout",
     "output_type": "stream",
     "text": [
      "[-0.49177126 -0.60546903  1.559005   -0.5433818  -0.45087934  1.60170952\n",
      " -0.67361589 -1.24829667 -0.38445525 -0.99949085 -1.66734261  1.23889129\n",
      "  1.16423142  0.08935374 -0.84948386]\n",
      "[-0.49177126 -0.60546903  1.559005   -0.5433818  -0.45087934  1.60170952\n",
      " -0.67361589 -1.24829667 -0.38445525 -0.99949085 -1.66734261  1.23889129\n",
      "  1.16423142  0.08935374 -0.84948386]\n"
     ]
    }
   ],
   "source": [
    "noise = (np.random.random([15]) * 4) - 2\n",
    "print(noise)\n",
    "label = 0\n",
    "label = label + noise\n",
    "print(label)"
   ]
  },
  {
   "cell_type": "code",
   "execution_count": 18,
   "id": "99c1f04a-be9f-415e-bc98-f67e53277c48",
   "metadata": {},
   "outputs": [
    {
     "name": "stdout",
     "output_type": "stream",
     "text": [
      "[[ 0  3]\n",
      " [10  7]\n",
      " [20  9]\n",
      " [30 14]\n",
      " [40 15]]\n",
      "['temperature', 'activity']\n",
      "   temperature  activity\n",
      "0            0         3\n",
      "1           10         7\n",
      "2           20         9\n",
      "3           30        14\n",
      "4           40        15\n"
     ]
    }
   ],
   "source": [
    "import pandas as pd\n",
    "my_data = np.array([[0,3],[10,7],[20,9],[30,14],[40,15]])\n",
    "print(my_data)\n",
    "my_column_name = [\"temperature\",\"activity\"]\n",
    "print(my_column_name)\n",
    "my_dataframe = pd.DataFrame(data=my_data, columns=my_column_name)\n",
    "print(my_dataframe)"
   ]
  },
  {
   "cell_type": "code",
   "execution_count": 20,
   "id": "785efb42-bb03-4507-9ce0-49ea803add1e",
   "metadata": {},
   "outputs": [
    {
     "name": "stdout",
     "output_type": "stream",
     "text": [
      "   temperature  activity  adjusted\n",
      "0            0         3         5\n",
      "1           10         7         9\n",
      "2           20         9        11\n",
      "3           30        14        16\n",
      "4           40        15        17\n"
     ]
    }
   ],
   "source": [
    "my_dataframe[\"adjusted\"] = my_dataframe[\"activity\"] + 2\n",
    "print(my_dataframe)"
   ]
  },
  {
   "cell_type": "code",
   "execution_count": 21,
   "id": "8795c3ef-f838-4e5d-9da0-146c94c17ad5",
   "metadata": {},
   "outputs": [
    {
     "name": "stdout",
     "output_type": "stream",
     "text": [
      "Rows #0, #1, #2: \n",
      "   temperature  activity  adjusted\n",
      "0            0         3         5\n",
      "1           10         7         9\n",
      "2           20         9        11 \n",
      "\n"
     ]
    }
   ],
   "source": [
    "print(\"Rows #0, #1, #2: \")\n",
    "print(my_dataframe.head(3), '\\n')"
   ]
  },
  {
   "cell_type": "code",
   "execution_count": 22,
   "id": "41b0f887-4088-4915-ab47-492301ffd767",
   "metadata": {},
   "outputs": [
    {
     "name": "stdout",
     "output_type": "stream",
     "text": [
      "Rows #2: \n",
      "   temperature  activity  adjusted\n",
      "2           20         9        11 \n",
      "\n"
     ]
    }
   ],
   "source": [
    "print(\"Rows #2: \")\n",
    "print(my_dataframe.iloc[[2]], '\\n')"
   ]
  },
  {
   "cell_type": "code",
   "execution_count": 23,
   "id": "af793ca9-70e3-4aaa-bc37-9085f898edda",
   "metadata": {},
   "outputs": [
    {
     "name": "stdout",
     "output_type": "stream",
     "text": [
      "Rows #0, #1, #2 and #3: \n",
      "   temperature  activity  adjusted\n",
      "1           10         7         9\n",
      "2           20         9        11\n",
      "3           30        14        16 \n",
      "\n"
     ]
    }
   ],
   "source": [
    "print(\"Rows #0, #1, #2 and #3: \")\n",
    "print(my_dataframe[1:4], '\\n')"
   ]
  },
  {
   "cell_type": "code",
   "execution_count": 24,
   "id": "22597114-3d16-4572-96c0-75c6014af87b",
   "metadata": {},
   "outputs": [
    {
     "name": "stdout",
     "output_type": "stream",
     "text": [
      "Column 'temperature':\n",
      "0     0\n",
      "1    10\n",
      "2    20\n",
      "3    30\n",
      "4    40\n",
      "Name: temperature, dtype: int32\n"
     ]
    }
   ],
   "source": [
    "print(\"Column 'temperature':\")\n",
    "print(my_dataframe['temperature'])"
   ]
  }
 ],
 "metadata": {
  "kernelspec": {
   "display_name": "Python 3 (ipykernel)",
   "language": "python",
   "name": "python3"
  },
  "language_info": {
   "codemirror_mode": {
    "name": "ipython",
    "version": 3
   },
   "file_extension": ".py",
   "mimetype": "text/x-python",
   "name": "python",
   "nbconvert_exporter": "python",
   "pygments_lexer": "ipython3",
   "version": "3.12.4"
  }
 },
 "nbformat": 4,
 "nbformat_minor": 5
}
